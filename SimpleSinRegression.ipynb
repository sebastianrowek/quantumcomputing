{

 "cells": [
   {
   "cell_type": "markdown",
   "metadata": {},
   "source": [
    "\n",
    "Quantum Neural Network für die Regression einer einfachen Sinusfunktion\n",
    "============================\n",
    "\n",
    "\n"
   ]
  },
  
   {
   "cell_type": "markdown",
   "metadata": {},
   "source": [
    "Der folgende Code erzeugt ein einschichtiges QNN zur Regression einer einfachen Sinusfunktion. In der Arbeit wird er für die Regression in Kapitel 8.1 verwendet. Der erste Teil lädt alle nötigen Bibliotheken und initialisiert den IBM Quantum Account.\n",
    "\n",
    "\n",
    "\n"
   ]
  },
  
  {
   "cell_type": "markdown",
   "metadata": {},
   "source": [
    "### Import der Bibliotheken\n",
    "\n",
    "\n",
    "\n"
   ]
  },
  
   {
   "cell_type": "markdown",
   "metadata": {},
   "source": [
    "Der erste Teil lädt alle nötigen Bibliotheken und initialisiert den IBM Quantum Account.\n",
    "\n",
    "\n",
    "\n"
   ]
  },
  
  
  {
   "cell_type": "code",
   "execution_count": 1,
   "id": "4d5a1fc3",
   "metadata": {},
   "outputs": [],
   "source": [
    "# Math librarys\n",
    "import numpy as np\n",
    "import matplotlib.pyplot as plt\n",
    "import random\n",
    "\n",
    "# Librarys for IBM devices\n",
    "from qiskit import *\n",
    "from qiskit import IBMQ, assemble, transpile\n",
    "from qiskit.providers.ibmq import least_busy\n",
    "\n",
    "# Librarys for working with qiskit\n",
    "from qiskit import Aer, QuantumCircuit, QuantumRegister\n",
    "from qiskit.opflow import Z, I, StateFn\n",
    "from qiskit.circuit import Parameter\n",
    "from qiskit.opflow import CircuitSampler, PauliSumOp, AerPauliExpectation, ListOp, Gradient, PauliExpectation\n",
    "from qiskit.utils import QuantumInstance, algorithm_globals\n",
    "from qiskit_machine_learning.neural_networks import TwoLayerQNN\n",
    "from typing import Union\n",
    "from qiskit_machine_learning.exceptions import QiskitMachineLearningError\n",
    "\n",
    "from IPython.display import clear_output\n",
    "\n",
    "algorithm_globals.random_seed = 42\n",
    "\n",
    "# Load the IBM Account\n",
    "IBMQ.load_account() # Load account from disk\n",
    "IBMQ.providers()    # List all available providers\n",
    "provider = IBMQ.get_provider(hub='ibm-q')"
   ]
  },
 
   {
   "cell_type": "markdown",
   "metadata": {},
   "source": [
    "\n<br/>"
   ]
  },
  
  {
   "cell_type": "markdown",
   "metadata": {},
   "source": [
    "### Definition der Simulatoren und des Quantencomputers\n",
    "\n",
    "\n",
    "\n"
   ]
  },
  
  {
   "cell_type": "markdown",
   "metadata": {},
   "source": [
    "Im zweiten Teil werden die Simulatoren und der Quantenprozessor für die Berechnung der Quantenschaltkreise vorbereitet.\n<br/>",
    "- 'qi_sv' ist ein Simulator ohne Noise Modeling\n<br/>",
    "- 'qi_qasm' ist ein Simulator mit Noise Modeling\n<br/>",
    "- 'qi_real' ist ein Quantenprozessor.\n<br/>", 
    "Mit Hilfe der Funktion 'least_busy' wird der Quantenprozessor (mit <= 5 Qubits) gewählt, der im Moment am wenigsten Aufträge hat.\n",
    "\n",
    "\n",
    "\n"
   ]
  },
  
  {
   "cell_type": "code",
   "execution_count": 2,
   "id": "135a22c1",
   "metadata": {},
   "outputs": [],
   "source": [
    "# define quantum instances (statevector and sample based)\n",
    "qi_sv = QuantumInstance(Aer.get_backend(\"aer_simulator_statevector\"))\n",
    "\n",
    "# we set shots to 10 as this will determine the number of samples later on.\n",
    "qi_qasm = QuantumInstance(Aer.get_backend(\"aer_simulator\"), shots=250)\n",
    "\n",
    "# define smallest devices to find least busy backend\n",
    "small_devices = provider.backends(filters=lambda x: x.configuration().n_qubits <= 5\n",
    "                                   and not x.configuration().simulator)\n",
    "\n",
    "# create a QNN instance with a real quantum processor \n",
    "backend = least_busy(small_devices)\n",
    "print(backend)\n",
    "\n",
    "qi_real = QuantumInstance(backend, shots=250)"
   ]
  },
 
   {
   "cell_type": "markdown",
   "metadata": {},
   "source": [
    "\n<br/>"
   ]
  },
  
  {
   "cell_type": "markdown",
   "metadata": {},
   "source": [
    "### Definition der wichtigen Funktionen\n",
    "\n",
    "\n",
    "\n"
   ]
  },
  
   {
   "cell_type": "markdown",
   "metadata": {},
   "source": [
    "Die folgende Zelle definiert alle wichtigen Funktionen, auf die im Code zurückgegriffen wird.\n<br/>",
    "- 'callback_training()' wird während des Trainingsprozesses aufgerufen und zeichnet die Fehlerfunktion.\n<br/>",
    "- 'evaluate_expectation()' berechnet den Erwartungswert eines Quantenschaltkreises bezogen auf die Observable 'Z'.\n<br/>",
    "- 'evaluate_grad_finit_diff()' berechnet den Finit-Difference-Gradienten des erzeugten QNN und wird während des Trainings aufgerufen.\n<br/>", 
    "- 'root_square_loss()' berechnet den RMSE des erzeugten QNN in Bezug auf die Trainingsdaten\n<br/>",
    "- 'loss_function()' handelt die Berechnung der Fehlerfunktion im Training der Netze.\n<br/>",
    "- 'train_network()' stellt die Gesamtfunktion für das Training. Hier werden die einzelnen Trainingsschritte initialisiert und am Ende das optimierte Gewicht zurückgegeben. \n<br/>",
    "- 'root_square_loss' berechnet den RMSE des erzeugten QNN in Bezug auf die Trainingsdaten\n<br/>",
    "- 'root_square_loss' berechnet den RMSE des erzeugten QNN in Bezug auf die Trainingsdaten\n<br/>",
    "\n",
    "\n",
    "\n"
   ]
  },
  
  {
   "cell_type": "code",
   "execution_count": 3,
   "id": "41fc1908",
   "metadata": {},
   "outputs": [],
   "source": [
    "# callback function that draws a live plot of the loss function and gets called by the training method\n",
    "def callback_training(training_value):\n",
    "    clear_output(wait=True)\n",
    "    training_funct_vals.append(training_value)\n",
    "    plt.title(\"Fehlerfunktion im Trainingsprozess\")\n",
    "    plt.xlabel(\"Iteration\")\n",
    "    plt.ylabel(\"Wert der Fehlerfunktion\")\n",
    "    plt.plot(range(len(training_funct_vals)), training_funct_vals)\n",
    "    plt.show()\n",
    "\n",
    "# Function to evaluate the expectation value of the quantum circuit. \n",
    "# The expectaton value represents the output of the QNN, with respect to\n",
    "# a specific weight, an input x and an observable Z\n",
    "def evaluate_expectation(weight,x):\n",
    "    observable = Z                                                    # observable is the Pauli Z observable                  \n",
    "    \n",
    "    # the quantum circuit ('quantum_circuit') is the circuit, that was created by the serial_quantum_model() method\n",
    "    # to represent the QNN\n",
    "    expectation = StateFn(observable, is_measurement=True) @ StateFn(quantum_circuit)\n",
    "    in_pauli_basis = PauliExpectation().convert(expectation)\n",
    "    sampler = CircuitSampler(qnn_qi)\n",
    "    \n",
    "    weight_dict = [weight]\n",
    "    weight_dict.append(x)\n",
    "    \n",
    "    value_dict = dict(zip(quantum_circuit.parameters, weight_dict))\n",
    "    result = sampler.convert(in_pauli_basis, params=value_dict).eval()  \n",
    "    return np.real(result)\n",
    "\n",
    "# Function to evaluate the finite difference gradient of a weight of the QNN\n",
    "def evaluate_grad_finit_diff(weight):    \n",
    "   \n",
    "    # shift the parameter (weight) of the QNN by +- eps\n",
    "    plus = weight\n",
    "    minus = weight\n",
    "    plus += eps\n",
    "    minus -= eps\n",
    "    \n",
    "    # evaluate and return the finit difference gradient\n",
    "    return (loss_function(plus) - loss_function(minus)) / (2 * eps)\n",
    "\n",
    "# Calculate the RMSE of the QNN with respect to all the learning data \n",
    "def root_square_loss(weight):\n",
    "    loss = 0\n",
    "    predictions=[]\n",
    "    # calculate the output of the QNN with the given weights for every input data in X_learn\n",
    "    for i in range(X_learn.size):\n",
    "        predictions.append(evaluate_expectation(weight,X_learn[i]))\n",
    "    # sum up the squared difference between QNN predictions and the corresponding learning output y_learn\n",
    "    for t, p in zip(y_learn, predictions):\n",
    "        loss = loss + (p - t) ** 2\n",
    "    loss = loss / len(y_learn)\n",
    "    return np.sqrt(loss)\n",
    "\n",
    "def loss_function(weight):\n",
    "    loss = 0\n",
    "    predictions=[]\n",
    "    # check, wether the batch size is smaller then the number of total learning examples\n",
    "    if size_batch>num_samples:\n",
    "        raise ValueError('Batch size is bigger then the number of learning examples!')\n",
    "    \n",
    "    # form a batch of learning values, randomly picked out of X_learn \n",
    "    batch_indices = random.sample(range(0, X_learn.size), size_batch)\n",
    "    batch = [X_learn[l] for l in batch_indices]\n",
    "    y_batch = [y_learn[k] for k in batch_indices]\n",
    "    # calculate the output of the QNN with the given weights for the batch data\n",
    "    for i in range(size_batch):\n",
    "        predictions.append(evaluate_expectation(weight,batch[i]))\n",
    "    # sum up the squared difference between QNN predictions and the corresponding learning output\n",
    "    for t, p in zip(y_batch, predictions):\n",
    "        loss = loss + (p - t) ** 2\n",
    "    loss = loss / len(batch)\n",
    "    return 0.5*loss\n",
    "    \n",
    "\n",
    "def train_network(weights):\n",
    "    # Prepare the lists and arrays\n",
    "    weight_training = weights                                                 # take the starting weights from the function argument \n",
    "    gradient = 0.0                                                            # list for gradients\n",
    "    delta = 0.0                                                               # list for the updates of the weights\n",
    "    X_learning_steps = np.full([learning_steps], range(learning_steps))       # list with the leaning steps\n",
    "    RMSE_training = np.full([learning_steps], 0.0)                            # list for the RMSE after every training step\n",
    "     \n",
    "    # Train the weight\n",
    "    for j in range(learning_steps):\n",
    "        gradient = evaluate_grad_finit_diff(weight_training)\n",
    "        delta = -gradient*learning_rate\n",
    "        weight_training += delta\n",
    "        RMSE_training[j] = root_square_loss(weight_training)                 # calculate the RMSE after every learning step\n",
    "        callback_training(RMSE_training[j])                                  # call the function to plot the RMSE\n",
    "        \n",
    "    return weight_training"
   ]
  },
  
   {
   "cell_type": "markdown",
   "metadata": {},
   "source": [
    "\n<br/>"
   ]
  },
  
   {
   "cell_type": "markdown",
   "metadata": {},
   "source": [
    "### Erzeugung des Quantenschaltkreises\n",
    "\n",
    "\n",
    "\n"
   ]
  },
  
  {
   "cell_type": "markdown",
   "metadata": {},
   "source": [
    "Die Zelle unten erzeugten den parametrisierten Quantenschaltkreis, welcher das QNN repräsentiert. Dabei codieren zwei Ry-Gatter den Input und das Gewicht des QNN. Der Schaltkreis ist in der Variablen 'quantum_circuit' gespeichert.\n<br/>",
    "\n",
    "\n",
    "\n"
   ]
  },
  
  {
   "cell_type": "code",
   "execution_count": 4,
   "id": "25bb0a3a",
   "metadata": {},
   "outputs": [
    {
     "data": {
      "image/png": "[encoded data removed]",
      "text/plain": [
       "<Figure size 193.726x84.28 with 1 Axes>"
      ]
     },
     "execution_count": 4,
     "metadata": {},
     "output_type": "execute_result"
    }
   ],
   "source": [
    "## BUILD THE QUANTUM CIRCUIT FOR THE QNN ##\n",
    "# Construct the circuit for the QNN with parallel architecture \n",
    "parameters = [Parameter(\"input\"), Parameter(\"weight\")]  # parameter, that will represent the input and the weight in the circuit\n",
    "quantum_circuit = QuantumCircuit(1)\n",
    "quantum_circuit.ry(parameters[0],0)                     # parametrized Ry-Rotation Gate with input as parameter\n",
    "quantum_circuit.ry(parameters[1],0)                     # parametrized Ry-Rotation Gate with weight as parameter\n",
    "\n",
    "# draw the quantum circuit\n",
    "quantum_circuit.draw('mpl')"
   ]
  },
     
   {
   "cell_type": "markdown",
   "metadata": {},
   "source": [
    "\n<br/>"
   ]
  },
  
   {
   "cell_type": "markdown",
   "metadata": {},
   "source": [
    "### Erzeugung der Trainingsdaten\n",
    "\n",
    "\n",
    "\n"
   ]
  },
  
   {
   "cell_type": "markdown",
   "metadata": {},
   "source": [
    "Nachfolgend werden die Lern- und Testdaten für die Regression erzeugt. Es muss angemerkt werden, dass die Testdaten aus dem Extrapolationsbereich bei der Regression der Sinusfunktion noch nicht zum Einsatz kommen, deshalb ist der Extrapolationsraum identisch mit dem Lernbereich. Außerdem werden die Lerndaten und die für die Erzeugung verwendete Sinusfunktion geplottet.\n<br/>",
    "- 'X_learn' und 'y_learn' enthalten die Trainingsdaten",
    "- 'X_apply' und 'y_apply' enthalten die Testdaten aus dem Extrapolationsraum",
    "\n",
    "\n",
    "\n"
   ]
  },
  
  {
   "cell_type": "code",
   "execution_count": 6,
   "id": "cd9c96f7",
   "metadata": {},
   "outputs": [
    {
     "data": {
      "image/png": "[encoded data removed]",
      "text/plain": [
       "<Figure size 432x288 with 1 Axes>"
      ]
     },
     "metadata": {
      "needs_background": "light"
     },
     "output_type": "display_data"
    }
   ],
   "source": [
    "num_samples = 50\n",
    "lb, ub = -np.pi, np.pi\n",
    "X_ = np.linspace(lb, ub, num=50)\n",
    "\n",
    "## LERNBEREICH ## \n",
    "x_learn_min = -np.pi\n",
    "x_learn_max = np.pi\n",
    "\n",
    "## ANWENDUNGSBEREICH ##\n",
    "x_apply_min = -np.pi\n",
    "x_apply_max = np.pi\n",
    "\n",
    "\n",
    "#Sinus\n",
    "f = lambda x: np.sin(x)\n",
    "\n",
    "#Glockenkurve\n",
    "#f = lambda x: 1/np.exp(x**2)\n",
    "\n",
    "#Gerade\n",
    "#f = lambda x: x/np.pi\n",
    "\n",
    "X_learn = np.random.uniform(x_learn_min, x_learn_max, num_samples)\n",
    "X_apply = np.random.uniform(x_apply_min, x_apply_max, num_samples)\n",
    "y_learn = np.array([f(x_)+(random.uniform(-0.15,0.15)) for x_ in X_learn])\n",
    "y_apply = f(X_apply)\n",
    "\n",
    "plt.plot(X_, f(X_), \"r--\")\n",
    "plt.plot(X_learn, y_learn, \"bo\")\n",
    "plt.title(\"Funktion f(x)=sin(x) und Trainingsdaten\")\n",
    "plt.show()"
   ]
  },
  
   {
   "cell_type": "markdown",
   "metadata": {},
   "source": [
    "\n<br/>"
   ]
  },
  
  {
   "cell_type": "markdown",
   "metadata": {},
   "source": [
    "### Initialisierung des QNN\n",
    "\n",
    "\n",
    "\n"
   ]
  },
  
   {
   "cell_type": "markdown",
   "metadata": {},
   "source": [
    "Das Gewicht des QNN wird per Zufall initialisiert. Außerdem wird über die Variable 'qnn_qi' eine Berechnungsinstanz von oben zur Berechnung der Quantenschaltkreise gewählt. Anschließend wird der RMSE des initialisierten QNN in Bezug auf die Trainingsdaten berechnet und die Funktion des QNN geplottet.\n<br/>",
    "\n",
    "\n",
    "\n"
   ]
  },
  
  {
   "cell_type": "code",
   "execution_count": 12,
   "id": "035bed31",
   "metadata": {},
   "outputs": [
    {
     "name": "stdout",
     "output_type": "stream",
     "text": [
      "RMSE no training: 1.2764714326189817\n"
     ]
    },
    {
     "data": {
      "image/png": "[encoded data removed]",
      "text/plain": [
       "<Figure size 432x288 with 1 Axes>"
      ]
     },
     "metadata": {
      "needs_background": "light"
     },
     "output_type": "display_data"
    }
   ],
   "source": [
    "## parameters of training ##\n",
    "starting_weight = np.random.uniform(0,2*np.pi)\n",
    "\n",
    "# choose, which Quantum Instance will be used to calculate expectation values:\n",
    "#qi_sv   = state vector based evaluation (no noise)\n",
    "#qi_qasm = simulator based evaluation (noise simulation)\n",
    "#qi_real = execution on real quantum processor\n",
    "qnn_qi = qi_qasm\n",
    "\n",
    "#calculate RMSE\n",
    "RMSE_notraining = root_square_loss(starting_weight)\n",
    "\n",
    "#print(RMSE_notraining)\n",
    "print('RMSE no training:', RMSE_notraining)\n",
    "\n",
    "# plot network-function without training\n",
    "y_notraining = [evaluate_expectation(starting_weight,x_) for x_ in X_]\n",
    "plt.plot(X_, y_notraining, \"r-\")\n",
    "plt.title(\"Funktion des QNN vor dem Training\")\n",
    "plt.show()"
   ]
  },
  
   {
   "cell_type": "markdown",
   "metadata": {},
   "source": [
    "\n<br/>"
   ]
  },
  
  {
   "cell_type": "markdown",
   "metadata": {},
   "source": [
    "### Training des Netzes\n",
    "\n",
    "\n",
    "\n"
   ]
  },
  
  {
   "cell_type": "markdown",
   "metadata": {},
   "source": [
    "Hier findet das Training des QNN statt. Über die Funktion 'train_network()' (siehe Zelle oben) wird das optimierte Gewicht berechnet und ausgegeben. Weiterhin wird der RMSE nach dem Training in Bezug auf die Trainingsdaten ausgegeben.\n<br/>",
    "\n",
    "\n",
    "\n"
   ]
  },
  
  {
   "cell_type": "code",
   "execution_count": 13,
   "id": "0859e80e",
   "metadata": {},
   "outputs": [
    {
     "data": {
      "image/png": "[encoded data removed]",
      "text/plain": [
       "<Figure size 432x288 with 1 Axes>"
      ]
     },
     "metadata": {
      "needs_background": "light"
     },
     "output_type": "display_data"
    },
    {
     "name": "stdout",
     "output_type": "stream",
     "text": [
      "RMSE simulation (after training):  0.10882509811744508\n"
     ]
    }
   ],
   "source": [
    "## Train the Network ##\n",
    "eps = 0.35                              # parameter for the Gradients\n",
    "learning_rate = 0.8                    # learning rate for the weights of the network\n",
    "learning_steps = 20                    # number of learning steps durign training\n",
    "size_batch = 50                        # number of learning examples to compute the loss function\n",
    "\n",
    "# Prepare the callback function to plot the training progress\n",
    "training_funct_vals = []\n",
    "\n",
    "# Plot the RMSE before training into the diagram\n",
    "callback_training(RMSE_notraining)\n",
    "\n",
    "# Train the network and get the optimized weight\n",
    "opt_weight = train_network(starting_weight)\n",
    "\n",
    "    \n",
    "# Calculate final RMSE with apply action\n",
    "RMSE_simulation = root_square_loss(opt_weight)\n",
    "print('RMSE simulation (after training): ', RMSE_simulation) "
   ]
  },

   {
   "cell_type": "markdown",
   "metadata": {},
   "source": [
    "\n<br/>"
   ]
  },
  
   {
   "cell_type": "markdown",
   "metadata": {},
   "source": [
    "### Plot Trainingsergebnis\n",
    "\n",
    "\n",
    "\n"
   ]
  },

   {
   "cell_type": "markdown",
   "metadata": {},
   "source": [
    "Abschließend wird die trainierte Funktion des QNN (grüne Linie) mit den Trainingsdaten und der Sinusfunktion geplottet.\n<br/>",
    "\n",
    "\n",
    "\n"
   ]
  },

  {
   "cell_type": "code",
   "execution_count": 14,
   "id": "fd87f493",
   "metadata": {},
   "outputs": [
    {
     "name": "stdout",
     "output_type": "stream",
     "text": [
      "Final loss:  0.10415403188868162\n"
     ]
    },
    {
     "data": {
      "image/png": "[encoded data removed]",
      "text/plain": [
       "<Figure size 432x288 with 1 Axes>"
      ]
     },
     "metadata": {
      "needs_background": "light"
     },
     "output_type": "display_data"
    }
   ],
   "source": [
    "# Calculate final RMSE with apply action\n",
    "\n",
    "print('Final loss: ', root_square_loss(opt_weight))\n",
    "\n",
    "# plot target function\n",
    "plt.plot(X_, f(X_), \"r--\")\n",
    "\n",
    "# plot data\n",
    "plt.plot(X_learn, y_learn, \"bo\")\n",
    "\n",
    "# plot fitted line\n",
    "#Netzwerkfunktion\n",
    "#f_NN = lambda x: evaluate_expectation(opt_weight,x)\n",
    "y_NN = [evaluate_expectation(opt_weight,x_) for x_ in X_]\n",
    "plt.title(\"Funktion des QNN nach dem Training\")\n",
    "plt.plot(X_, y_NN, \"g-\",  linewidth=3.5)\n",
    "plt.show()"
   ]
  }
  
 ],
 "metadata": {
  "kernelspec": {
   "display_name": "Python 3 (ipykernel)",
   "language": "python",
   "name": "python3"
  },
  "language_info": {
   "codemirror_mode": {
    "name": "ipython",
    "version": 3
   },
   "file_extension": ".py",
   "mimetype": "text/x-python",
   "name": "python",
   "nbconvert_exporter": "python",
   "pygments_lexer": "ipython3",
   "version": "3.7.11"
  }
 },
 "nbformat": 4,
 "nbformat_minor": 5
}
